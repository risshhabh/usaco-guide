{
 "cells": [
  {
   "cell_type": "markdown",
   "metadata": {},
   "source": [
    "# [Recursion](https://usaco.guide/CPH.pdf#page=57) and [Recursion](https://youtu.be/WPSeyjX1-4s)\n",
    "\n",
    "\n",
    "Reduce a problem to a simpler version of the same problem + some extra, known steps.\n",
    "- We repeat this until we get down to a simple base case.\n",
    "- Semantically, a program that calls itself uses recursion\n",
    "```py\n",
    "def function():\n",
    "    # Some steps\n",
    "    function()\n",
    "    # ...\n",
    "```\n",
    "\n",
    "## Generating subsets\n",
    "We may either use recursion to generate subsets (e.g. all subsets of `list(range(n))`) or bit manipulation."
   ]
  },
  {
   "cell_type": "code",
   "execution_count": 6,
   "metadata": {},
   "outputs": [
    {
     "name": "stdout",
     "output_type": "stream",
     "text": [
      "[[], [2], [1], [1, 2], [0], [0, 2], [0, 1], [0, 1, 2]]\n"
     ]
    }
   ],
   "source": [
    "# Using recursion\n",
    "subsets, n = [], 3\n",
    "def search(k, subset=[]):\n",
    "    global n\n",
    "    if k == n:\n",
    "        subsets.append(subset[:])\n",
    "    else:\n",
    "        search(k+1, subset)\n",
    "        subset.append(k)\n",
    "        search(k+1, subset)\n",
    "        subset.pop()\n",
    "\n",
    "search(0)\n",
    "print(subsets)"
   ]
  },
  {
   "cell_type": "code",
   "execution_count": 19,
   "metadata": {},
   "outputs": [
    {
     "name": "stdout",
     "output_type": "stream",
     "text": [
      "[[], [0], [1], [0, 1], [2], [0, 2], [1, 2], [0, 1, 2]]\n"
     ]
    }
   ],
   "source": [
    "# Using bit manipulation\n",
    "subsets, n = [], 3\n",
    "splint = lambda : list(map(int, input().split()))\n",
    "# Bit-shifts 1 to the left n times (1 --> 1000)\n",
    "# Now we go from 0 to 2^n - 1, representing all possible subsets\n",
    "# Either in subset(1) or not(0): 000, 001, 010, 011, 100, 101, 110, 111\n",
    "for i in range(1 << n):\n",
    "    subset = []\n",
    "    for j in range(n):\n",
    "        if i & (1 << j):\n",
    "            subset.append(j)\n",
    "    subsets.append(subset)\n",
    "\n",
    "print(subsets)"
   ]
  },
  {
   "cell_type": "markdown",
   "metadata": {},
   "source": [
    "[!!! Unfinished !!!]()\n",
    "***\n",
    "## <u>Generating permutations</u>\n",
    "Now we aim to generate all permutations (orderings) of a set of `n` elements (e.g. `list(range(n))`). Similar to subsets, permutations may be calculated recursively or iteratively."
   ]
  },
  {
   "cell_type": "code",
   "execution_count": 11,
   "metadata": {},
   "outputs": [
    {
     "name": "stdout",
     "output_type": "stream",
     "text": [
      "2\n"
     ]
    }
   ],
   "source": [
    "#\n",
    "# TODO Using recursion\n",
    "permutations, n = [], 1\n",
    "def search(k, perm=[]):\n",
    "    global n\n",
    "    if k == n:\n",
    "        permutations.append(perm)\n",
    "    else:\n",
    "        for i in range(n):\n",
    "            perm.append((i + k) % n)\n",
    "            search(k+1, perm)\n",
    "            perm.pop()\n",
    "            search(k+1, perm)\n",
    "\n",
    "search(0)\n",
    "print(len(permutations))"
   ]
  },
  {
   "cell_type": "markdown",
   "metadata": {},
   "source": [
    "## Tower of Hanoi\n",
    "\n",
    "With three towers (start: `i`, end: `o`, extra: `p`), we aim to move a stack of `n` disks in increasing order from start to end, while maintaining the increasing order.\n",
    "\n",
    "We move these disks at rate 1 disc/second; we output how long it takes to move all disks from start to end.\n",
    "\n",
    "Recursive implementation:\n",
    "1. Base case `n = 1`: We move the disk from `i` to `o`.\n",
    "2. Induction case `n = k + 1`: We move `k` disks from `i` to `p`, move the bottom disk from `i` to `o`, then move the `k` disks from `p` to `o`."
   ]
  },
  {
   "cell_type": "code",
   "execution_count": 8,
   "metadata": {},
   "outputs": [
    {
     "name": "stdout",
     "output_type": "stream",
     "text": [
      "0000: 1 -> 3\n",
      "0001: 1 -> 2\n",
      "0002: 3 -> 2\n",
      "0003: 1 -> 3\n",
      "0004: 2 -> 1\n",
      "0005: 2 -> 3\n",
      "0006: 1 -> 3\n",
      "7\n"
     ]
    }
   ],
   "source": [
    "# Using recursion\n",
    "def print_move(start, end, time):\n",
    "    print(f\"{str(time).zfill(4)}: {start} -> {end}\")\n",
    "\n",
    "time = 0\n",
    "def hanoi(i, p, o, n):\n",
    "    global time\n",
    "    if n == 1:\n",
    "        print_move(i, o, time)\n",
    "        time += 1\n",
    "    else:\n",
    "        hanoi(i, o, p, n - 1)\n",
    "        hanoi(i, p, o, 1)\n",
    "        hanoi(p, i, o, n - 1)\n",
    "    \n",
    "    return time\n",
    "\n",
    "print(hanoi(\"1\", \"2\", \"3\", 3)) # note time = (1 << n) - 1 = 2 ** n - 1"
   ]
  },
  {
   "cell_type": "markdown",
   "metadata": {},
   "source": [
    "## Palindromes using recursion\n",
    "A palindrome is a word, phrase, or number that reads the same forward or backward (e.g. \"Hannah\").\n",
    "\n",
    "Palindrome checkers may easily be implemented by using key functions of strings in CS: "
   ]
  },
  {
   "cell_type": "code",
   "execution_count": 17,
   "metadata": {},
   "outputs": [
    {
     "name": "stdout",
     "output_type": "stream",
     "text": [
      "True\n"
     ]
    }
   ],
   "source": [
    "strip_non_alpha = lambda s : \"\".join(filter(str.isalnum, s.lower()))\n",
    "is_palindrome = lambda s_strip : s_strip.lower() == s_strip.lower()[::-1]\n",
    "\n",
    "print (\n",
    "    is_palindrome (\n",
    "        strip_non_alpha(\"Able was I, ere I saw Elba\")\n",
    "    )\n",
    ")"
   ]
  },
  {
   "cell_type": "markdown",
   "metadata": {},
   "source": [
    "However, they may also be produced using recursion:"
   ]
  },
  {
   "cell_type": "code",
   "execution_count": 23,
   "metadata": {},
   "outputs": [
    {
     "name": "stdout",
     "output_type": "stream",
     "text": [
      "True\n"
     ]
    }
   ],
   "source": [
    "def rec_strip_non_alpha(s):\n",
    "    \"\"\" Removes all nonalphanumeric characters of a string \"\"\"\n",
    "\n",
    "    s = s.lower()\n",
    "    if not s: # Base case \"\"\n",
    "        return \"\"\n",
    "    elif s[0].isalnum():\n",
    "        return s[0] + rec_strip_non_alpha(s[1:])\n",
    "    else:\n",
    "        return rec_strip_non_alpha(s[1:])\n",
    "\n",
    "def rec_is_palindrome(s):\n",
    "    s = s.lower()\n",
    "\n",
    "    if len(s) <= 1: # Alternatively, just test length = 0\n",
    "        return True\n",
    "    return s[0] == s[-1] and rec_is_palindrome(s[1:-1])\n",
    "\n",
    "print (\n",
    "    rec_is_palindrome (\n",
    "        rec_strip_non_alpha(\"Able was I, ere I saw Elba\")\n",
    "    )\n",
    ")"
   ]
  },
  {
   "cell_type": "markdown",
   "metadata": {},
   "source": [
    "## Fibonacci with recursion and dictionaries\n",
    "The Fibonacci sequence is defined as the one that begins as $1, 1, \\dots,$ and for the next terms, each term is defined as the sum of the two prior. It produces a sequence starting with $1, 1, 2, 3, 5, 8, \\dots.$\n",
    "\n",
    "We may find the Fibonacci sequence easily using recursion:"
   ]
  },
  {
   "cell_type": "code",
   "execution_count": 38,
   "metadata": {},
   "outputs": [
    {
     "name": "stdout",
     "output_type": "stream",
     "text": [
      "1 1 2 3 5 8 13 21 34 55 89 144 233 377 610 987 1597 2584 4181 6765 10946 17711 28657 46368 75025 121393 196418 317811 514229 832040\n"
     ]
    }
   ],
   "source": [
    "# Using recursion\n",
    "def fib(n):\n",
    "    if n == 0 or n == 1:\n",
    "        return 1\n",
    "    else:\n",
    "        return fib(n-1) + fib(n-2)\n",
    "\n",
    "n = 30\n",
    "f = map(fib, range(n))\n",
    "print(*list(f))"
   ]
  },
  {
   "cell_type": "markdown",
   "metadata": {},
   "source": [
    "This technique may be fine for smaller values of $n,$ though we repeat the calculation of several terms of the sequence, as we have two recursive calls.\n",
    "- For example, `fib(n)` calculates `fib(n-1)` and `fib(n-2)`, even though `fib(n-1)` already calculates `fib(n-2)`.\n",
    "\n",
    "To speed up our process by removing repeated calculations, we may use dictionaries."
   ]
  },
  {
   "cell_type": "code",
   "execution_count": 40,
   "metadata": {},
   "outputs": [
    {
     "name": "stdout",
     "output_type": "stream",
     "text": [
      "1 1 2 3 5 8 13 21 34 55 89 144 233 377 610 987 1597 2584 4181 6765 10946 17711 28657 46368 75025 121393 196418 317811 514229 832040\n"
     ]
    }
   ],
   "source": [
    "# Using dictionaries\n",
    "def fib2(n, d):\n",
    "    if n in d:\n",
    "        return d[n] # fib(n)\n",
    "    else:\n",
    "        fibn = fib2(n-1, d) + fib2(n-2, d)\n",
    "        d[n] = fibn\n",
    "        return fibn\n",
    "\n",
    "d = {1:1, 2:1}\n",
    "fib2(30, d)\n",
    "print(*d.values())"
   ]
  },
  {
   "cell_type": "markdown",
   "metadata": {},
   "source": [
    "This method, called **memoization**, reduces procedure calls drastically."
   ]
  }
 ],
 "metadata": {
  "kernelspec": {
   "display_name": "Python 3",
   "language": "python",
   "name": "python3"
  },
  "language_info": {
   "codemirror_mode": {
    "name": "ipython",
    "version": 3
   },
   "file_extension": ".py",
   "mimetype": "text/x-python",
   "name": "python",
   "nbconvert_exporter": "python",
   "pygments_lexer": "ipython3",
   "version": "3.12.1"
  }
 },
 "nbformat": 4,
 "nbformat_minor": 2
}
